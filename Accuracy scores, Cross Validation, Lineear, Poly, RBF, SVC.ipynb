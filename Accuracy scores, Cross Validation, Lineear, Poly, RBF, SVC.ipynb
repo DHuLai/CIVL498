{
 "cells": [
  {
   "cell_type": "markdown",
   "metadata": {},
   "source": [
    "3.1"
   ]
  },
  {
   "cell_type": "code",
   "execution_count": 42,
   "metadata": {},
   "outputs": [],
   "source": [
    "import numpy as np\n",
    "import pandas as pd\n",
    "\n",
    "testDF = pd.read_csv(\"./test.csv\")\n",
    "trainDF = pd.read_csv(\"./train.csv\")\n",
    "\n",
    "x_train = trainDF.drop(['Unnamed: 0', 'label'], axis = 1)\n",
    "y_train = trainDF['label']\n",
    "\n",
    "x_test = testDF.drop(['Unnamed: 0', 'label'], axis = 1)\n",
    "y_test = testDF['label']"
   ]
  },
  {
   "cell_type": "markdown",
   "metadata": {},
   "source": [
    "3.2"
   ]
  },
  {
   "cell_type": "code",
   "execution_count": 43,
   "metadata": {},
   "outputs": [],
   "source": [
    "from sklearn import svm\n",
    "from sklearn.metrics import accuracy_score\n",
    "from sklearn.model_selection import cross_validate\n",
    "\n",
    "kernel = ['linear', 'poly', 'rbf']\n",
    "C = [0.5, 1, 2]\n",
    "D = [2, 3, 5]\n",
    "scores = []\n",
    "topScore = 0\n"
   ]
  },
  {
   "cell_type": "code",
   "execution_count": 44,
   "metadata": {},
   "outputs": [
    {
     "name": "stdout",
     "output_type": "stream",
     "text": [
      "The scores for the linear kernel are:\n",
      "SVC(C=0.5, kernel='linear')   =>   0.4888\n",
      "SVC(C=1, kernel='linear')   =>   0.4888\n",
      "SVC(C=2, kernel='linear')   =>   0.4888\n",
      "\n",
      "The scores for the poly kernel are:\n",
      "SVC(C=0.5, degree=2, kernel='poly')   =>   0.5923999999999999\n",
      "SVC(C=0.5, kernel='poly')   =>   0.5760000000000001\n",
      "SVC(C=0.5, degree=5, kernel='poly')   =>   0.5392\n",
      "SVC(C=1, degree=2, kernel='poly')   =>   0.5955999999999999\n",
      "SVC(C=1, kernel='poly')   =>   0.5636\n",
      "SVC(C=1, degree=5, kernel='poly')   =>   0.5372\n",
      "SVC(C=2, degree=2, kernel='poly')   =>   0.5828\n",
      "SVC(C=2, kernel='poly')   =>   0.5611999999999999\n",
      "SVC(C=2, degree=5, kernel='poly')   =>   0.532\n",
      "\n",
      "The scores for the rbf kernel are:\n",
      "SVC(C=0.5)   =>   0.5995999999999999\n",
      "SVC(C=1)   =>   0.6228\n",
      "SVC(C=2)   =>   0.6344000000000001\n"
     ]
    }
   ],
   "source": [
    "for k in range(len(kernel)):\n",
    "    if kernel[k] == 'linear':\n",
    "        print(\"The scores for the linear kernel are:\")\n",
    "        for i in range(len(C)):\n",
    "            linearSVC = svm.SVC(C = C[i], kernel = 'linear')\n",
    "            scores = cross_validate(linearSVC, x_train, y_train, cv = 5, scoring = \"accuracy\")\n",
    "            avgScore = scores[\"test_score\"].mean()\n",
    "            print(linearSVC, \"  =>  \", avgScore)\n",
    "            if avgScore > topScore:\n",
    "                topScore = avgScore\n",
    "                topSVC = linearSVC\n",
    "\n",
    "    elif kernel[k] == 'poly':\n",
    "        print(\"\")\n",
    "        print(\"The scores for the poly kernel are:\")\n",
    "        for i in range(len(C)):\n",
    "            for d in range(len(D)):\n",
    "                polySVC = svm.SVC(C = C[i], kernel = 'poly', degree = D[d])\n",
    "                scores = cross_validate(polySVC, x_train, y_train, cv = 5, scoring = \"accuracy\")\n",
    "                avgScore = scores[\"test_score\"].mean()\n",
    "                print(polySVC, \"  =>  \", avgScore)\n",
    "                if avgScore > topScore:\n",
    "                    topScore = avgScore\n",
    "                    topSVC = polySVC\n",
    "\n",
    "    elif kernel[k] == 'rbf':\n",
    "        print(\"\")\n",
    "        print(\"The scores for the rbf kernel are:\")\n",
    "        for i in range(len(C)):\n",
    "            rbfSVC = svm.SVC(C = C[i], kernel = 'rbf')\n",
    "            scores = cross_validate(rbfSVC, x_train, y_train, cv = 5, scoring = \"accuracy\")\n",
    "            avgScore = scores[\"test_score\"].mean()\n",
    "            print(rbfSVC, \"  =>  \", avgScore)\n",
    "            if avgScore > topScore:\n",
    "                topScore = avgScore\n",
    "                topSVC = rbfSVC\n"
   ]
  },
  {
   "cell_type": "markdown",
   "metadata": {},
   "source": [
    "3.3"
   ]
  },
  {
   "cell_type": "code",
   "execution_count": 47,
   "metadata": {},
   "outputs": [
    {
     "name": "stdout",
     "output_type": "stream",
     "text": [
      "The top performing model (rbf), SVC(C=2) , achieved an accuracy score of => 0.622\n"
     ]
    }
   ],
   "source": [
    "y_prediction = topSVC.fit(x_train, y_train).predict(x_test)\n",
    "\n",
    "print(\"The top performing model (rbf),\", topSVC, \", achieved an accuracy score of =>\", accuracy_score(y_test, y_prediction))"
   ]
  },
  {
   "cell_type": "markdown",
   "metadata": {},
   "source": [
    "3.4"
   ]
  },
  {
   "cell_type": "code",
   "execution_count": 46,
   "metadata": {},
   "outputs": [],
   "source": [
    "#The accuracy score provides a good metric of choice to evaluate the performance of this data set\n",
    "#The top performing model achieved an accuracy of 0.622.\n",
    "#This means the model does not have a big didiscrepancy in the dfference between each data group that would lead to an isolation of smaller, innacurate, classifications."
   ]
  }
 ],
 "metadata": {
  "interpreter": {
   "hash": "6b6c2bae30463a282644faf46decf00c6bcbf7e9d85abad071ba98b9c0b1a94e"
  },
  "kernelspec": {
   "display_name": "Python 3.9.7 64-bit ('498A': conda)",
   "language": "python",
   "name": "python3"
  },
  "language_info": {
   "codemirror_mode": {
    "name": "ipython",
    "version": 3
   },
   "file_extension": ".py",
   "mimetype": "text/x-python",
   "name": "python",
   "nbconvert_exporter": "python",
   "pygments_lexer": "ipython3",
   "version": "3.9.7"
  },
  "orig_nbformat": 4
 },
 "nbformat": 4,
 "nbformat_minor": 2
}
