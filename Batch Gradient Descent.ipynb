{
 "cells": [
  {
   "cell_type": "code",
   "execution_count": 181,
   "metadata": {},
   "outputs": [],
   "source": [
    "#Learning Rate\n",
    "alpha = 0.01\n",
    "\n",
    "#Initial Guess\n",
    "thetaList = [20, 1, -2]\n",
    "\n",
    "#Reset thetas per function use\n",
    "thetaReset = [20, 1, -2]\n",
    "\n",
    "#Samples\n",
    "X = [\n",
    "    [1, 2, 3],\n",
    "    [1, 1, 5],\n",
    "    [1, 2, 2],\n",
    "    [1, 2, 3],\n",
    "    [1, 3, 1]\n",
    "    ]\n",
    "\n",
    "#Outcomes\n",
    "Y = [4, 2.5, 6, 4, 5.5]\n",
    "\n",
    "#Sum of Samples\n",
    "sumSamples = [0, 0, 0]"
   ]
  },
  {
   "cell_type": "code",
   "execution_count": 182,
   "metadata": {},
   "outputs": [],
   "source": [
    "#Calculating Loss Function (BGD)\n",
    "def calcLF(i):\n",
    "    diff = 0\n",
    "    for j in range(len(X[0])):\n",
    "        diff += X[i][j] * thetaList[j]\n",
    "    diff -= Y[j]\n",
    "    return diff"
   ]
  },
  {
   "cell_type": "code",
   "execution_count": 183,
   "metadata": {},
   "outputs": [],
   "source": [
    "#Calculate Sum of Loss Function\n",
    "def sumLF(j):\n",
    "    sumDiff = 0\n",
    "    for i in range(len(X)):\n",
    "            sumDiff += X[i][j]*calcLF(i)\n",
    "    return sumDiff\n"
   ]
  },
  {
   "cell_type": "code",
   "execution_count": 184,
   "metadata": {},
   "outputs": [],
   "source": [
    "#Stores Sum of Loss Function into a list, sumSamples, and update thetas for an epoch using the list.\n",
    "def updateThetas():\n",
    "    for i in range(len(sumSamples)):\n",
    "        sumSamples[i] += sumLF(i)\n",
    "    for i in range(len(thetaList)):\n",
    "        thetaList[i] -= alpha*sumSamples[i]\n",
    "    return thetaList"
   ]
  },
  {
   "cell_type": "code",
   "execution_count": 185,
   "metadata": {},
   "outputs": [],
   "source": [
    "#Peform SGD for a given number of epochs\n",
    "def SGD(numEpochs):\n",
    "    for epoch in range(numEpochs):\n",
    "        updateThetas(X)\n",
    "    print('After', numEpochs, 'epochs:','[THETA0, THETA1, THETA2] =' , thetaList)\n",
    "    for t in range(len(thetaList)):\n",
    "        thetaList[t] = thetaReset[t]"
   ]
  },
  {
   "cell_type": "code",
   "execution_count": 186,
   "metadata": {},
   "outputs": [
    {
     "name": "stdout",
     "output_type": "stream",
     "text": [
      "For 10 epochs [THETA0, THETA1, THETA2] = [17.140319493632976, -8.420110582000646, -1.4001607846629507]\n",
      "For 100 epochs [THETA0, THETA1, THETA2] = [9.810128233058295, 3.392023595635925, -1.5353749712499176]\n",
      "For 1000 epochs [THETA0, THETA1, THETA2] = [13.735520750085842, 2.812078182589444, -1.2940740920888396]\n"
     ]
    }
   ],
   "source": [
    "#Solutions for 3.1\n",
    "BGD(10)\n",
    "BGD(100)\n",
    "BGD(1000)\n"
   ]
  }
 ],
 "metadata": {
  "interpreter": {
   "hash": "6b6c2bae30463a282644faf46decf00c6bcbf7e9d85abad071ba98b9c0b1a94e"
  },
  "kernelspec": {
   "display_name": "Python 3.9.7 64-bit ('498A': conda)",
   "language": "python",
   "name": "python3"
  },
  "language_info": {
   "codemirror_mode": {
    "name": "ipython",
    "version": 3
   },
   "file_extension": ".py",
   "mimetype": "text/x-python",
   "name": "python",
   "nbconvert_exporter": "python",
   "pygments_lexer": "ipython3",
   "version": "3.9.7"
  },
  "orig_nbformat": 4
 },
 "nbformat": 4,
 "nbformat_minor": 2
}
