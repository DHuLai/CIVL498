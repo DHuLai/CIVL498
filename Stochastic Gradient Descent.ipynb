{
 "cells": [
  {
   "cell_type": "code",
   "execution_count": 21,
   "metadata": {},
   "outputs": [],
   "source": [
    "#Learning Rate\n",
    "alpha = 0.01\n",
    "\n",
    "#Initial Guess\n",
    "thetaList = [10, 0, -1]\n",
    "thetaReset = [10, 0, -1]\n",
    "\n",
    "#Samples\n",
    "X = [\n",
    "    [1, 2, 6],\n",
    "    [1, 1, 5],\n",
    "    [1, 5, 2],\n",
    "    [1, 2, 3],\n",
    "    [1, 4, 4]\n",
    "    ]\n",
    "\n",
    "#Outcomes\n",
    "Y = [2, 7, 1, 8, 0]\n"
   ]
  },
  {
   "cell_type": "code",
   "execution_count": 22,
   "metadata": {},
   "outputs": [],
   "source": [
    "#Calculating Loss Function (SGD)\n",
    "def calcLF(i):\n",
    "    diff = 0\n",
    "    for j in range(len(X[0])):\n",
    "        diff += thetaList[j] * X[i][j]\n",
    "    diff -= Y[i]\n",
    "    return diff"
   ]
  },
  {
   "cell_type": "code",
   "execution_count": 23,
   "metadata": {},
   "outputs": [],
   "source": [
    "#Update Thetas for an Epoch (all examples)\n",
    "def updateThetas(samples):\n",
    "    for i in range (len(samples)):\n",
    "        loss = calcLF(i)\n",
    "        for j in range(len(thetaList)):\n",
    "            thetaList[j] -= alpha * X[i][j] * loss\n",
    "    return thetaList\n",
    "    "
   ]
  },
  {
   "cell_type": "code",
   "execution_count": 24,
   "metadata": {},
   "outputs": [],
   "source": [
    "#Peform SGD for a given number of epochs\n",
    "def SGD(numEpochs):\n",
    "    for epoch in range(numEpochs):\n",
    "        updateThetas(X)\n",
    "    print('After', numEpochs, 'epochs:','[THETA0, THETA1, THETA2] =' , thetaList)\n",
    "    for t in range(len(thetaList)):\n",
    "        thetaList[t] = thetaReset[t]\n",
    "\n"
   ]
  },
  {
   "cell_type": "code",
   "execution_count": 25,
   "metadata": {},
   "outputs": [
    {
     "name": "stdout",
     "output_type": "stream",
     "text": [
      "After 10 epochs: [THETA0, THETA1, THETA2] = [10.001371129875462, -1.5384734431260572, -0.6098090890578749]\n",
      "After 100 epochs: [THETA0, THETA1, THETA2] = [11.262381693195241, -1.88941192518346, -0.6527957141191639]\n",
      "After 1000 epochs: [THETA0, THETA1, THETA2] = [17.741073727552983, -2.7128809607525843, -1.6517088462734095]\n"
     ]
    }
   ],
   "source": [
    "#Solutions for 3.1\n",
    "SGD(10)\n",
    "SGD(100)\n",
    "SGD(1000)\n"
   ]
  }
 ],
 "metadata": {
  "interpreter": {
   "hash": "6b6c2bae30463a282644faf46decf00c6bcbf7e9d85abad071ba98b9c0b1a94e"
  },
  "kernelspec": {
   "display_name": "Python 3.9.7 64-bit ('498A': conda)",
   "language": "python",
   "name": "python3"
  },
  "language_info": {
   "codemirror_mode": {
    "name": "ipython",
    "version": 3
   },
   "file_extension": ".py",
   "mimetype": "text/x-python",
   "name": "python",
   "nbconvert_exporter": "python",
   "pygments_lexer": "ipython3",
   "version": "3.9.7"
  },
  "orig_nbformat": 4
 },
 "nbformat": 4,
 "nbformat_minor": 2
}
